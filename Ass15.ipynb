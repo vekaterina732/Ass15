{
 "cells": [
  {
   "cell_type": "code",
   "execution_count": 1,
   "id": "265763fa-9666-43fd-90af-826248e02dd8",
   "metadata": {
    "tags": []
   },
   "outputs": [
    {
     "name": "stdout",
     "output_type": "stream",
     "text": [
      "Recommended Lengths: [6, 2]\n",
      "Maximum Value: 22\n"
     ]
    }
   ],
   "source": [
    "def rod_cutting(n, prices):\n",
    "    # Initialize dp and cuts arrays\n",
    "    dp = [0] * (n + 1)\n",
    "    optimal_cuts = [[] for _ in range(n + 1)]\n",
    "    \n",
    "    # Fill dp array and optimal_cuts\n",
    "    for i in range(1, n + 1):\n",
    "        max_profit = 0\n",
    "        for j in range(1, i + 1):\n",
    "            if j <= len(prices):\n",
    "                current_profit = prices[j - 1] + dp[i - j]\n",
    "                if current_profit > max_profit:\n",
    "                    max_profit = current_profit\n",
    "                    # Store the cuts to get this maximum\n",
    "                    optimal_cuts[i] = optimal_cuts[i - j] + [j]\n",
    "        dp[i] = max_profit\n",
    "    \n",
    "    # Result\n",
    "    return optimal_cuts[n], dp[n]  # cuts and max profit (optional)\n",
    "\n",
    "# Example Usage:\n",
    "n = 8\n",
    "prices = [1, 5, 8, 9, 10, 17, 17, 20]\n",
    "recommended_lengths, max_value = rod_cutting(n, prices)\n",
    "print(\"Recommended Lengths:\", recommended_lengths)\n",
    "print(\"Maximum Value:\", max_value)\n"
   ]
  },
  {
   "cell_type": "code",
   "execution_count": null,
   "id": "b810a4fa-7158-4077-9af0-6f55e62d33fd",
   "metadata": {},
   "outputs": [],
   "source": []
  }
 ],
 "metadata": {
  "kernelspec": {
   "display_name": "Python 3 (ipykernel)",
   "language": "python",
   "name": "python3"
  },
  "language_info": {
   "codemirror_mode": {
    "name": "ipython",
    "version": 3
   },
   "file_extension": ".py",
   "mimetype": "text/x-python",
   "name": "python",
   "nbconvert_exporter": "python",
   "pygments_lexer": "ipython3",
   "version": "3.10.8"
  }
 },
 "nbformat": 4,
 "nbformat_minor": 5
}
